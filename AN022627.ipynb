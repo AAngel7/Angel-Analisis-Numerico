{
 "cells": [
  {
   "cell_type": "markdown",
   "id": "eb33b603",
   "metadata": {},
   "source": [
    "26/02/24/lunes"
   ]
  },
  {
   "cell_type": "code",
   "execution_count": 4,
   "id": "b16ea51d",
   "metadata": {},
   "outputs": [],
   "source": [
    "import numpy as np\n",
    "import sympy as sy\n",
    "from sympy import *\n",
    "from sympy.abc import x\n",
    "import matplotlib.pyplot as plt"
   ]
  },
  {
   "cell_type": "code",
   "execution_count": 5,
   "id": "c1c6cdbd",
   "metadata": {},
   "outputs": [
    {
     "name": "stdout",
     "output_type": "stream",
     "text": [
      "[[1 2 1]\n",
      " [1 2 1]\n",
      " [1 2 1]]\n",
      "[3 4 5]\n",
      "[2 7 2]\n"
     ]
    }
   ],
   "source": [
    "A=np.array([[1,2,1],[1,2,1],[1,2,1]])\n",
    "print(A)\n",
    "F = np.array([3,4,5])\n",
    "print(F)\n",
    "G = np.array([2,7,2])\n",
    "print(G)\n",
    "U = np.array([[1,2,3],[0,0,0],[0,0,0]])\n",
    "def al(k,A,F):\n",
    "    for i in range(k):\n",
    "        for j in range(0,2):\n",
    "            U[i,j] = A[i,j] - ((A[i,k])/(A[k,k]))*A[k,j]\n",
    "    G[k]=F[k] - ((A[i,k])/(A[k,k]))*F[k]\n",
    "    k+=1\n",
    "    if k==2:\n",
    "        x = G[k]/U[k,k]\n",
    "        return x\n",
    "    else:\n",
    "        return al(k,U,G,U,G)"
   ]
  },
  {
   "cell_type": "markdown",
   "id": "5dc77980",
   "metadata": {},
   "source": [
    "27/02/24/martes"
   ]
  },
  {
   "cell_type": "code",
   "execution_count": 6,
   "id": "495e3040",
   "metadata": {},
   "outputs": [],
   "source": [
    "#Substitución pa'tras y pa'lante\n",
    "#producto escalar np.dot\n",
    "#matriz L vector x LX=G\n",
    "g=np.copy(G)\n",
    "l=np.copy(A)\n",
    "def fsub(L,G):\n",
    "    n=3\n",
    "    x=np.zeros(n)\n",
    "    xl=np.zeros(n)\n",
    "    print(x)\n",
    "    print(xl)\n",
    "    print(l)\n",
    "    print(g)\n",
    "    for i in range(n+1):\n",
    "        for j in range(i-1):\n",
    "            xl[j]=l[i,j]*x[j]\n",
    "            x[i]=(g[i]/l[i,i])-(xl[i]/l[i,i])\n",
    "        print(x[i])"
   ]
  },
  {
   "cell_type": "code",
   "execution_count": 7,
   "id": "aa38db9b",
   "metadata": {},
   "outputs": [
    {
     "name": "stdout",
     "output_type": "stream",
     "text": [
      "[0. 0. 0.]\n",
      "[0. 0. 0.]\n",
      "[[1 2 1]\n",
      " [1 2 1]\n",
      " [1 2 1]]\n",
      "[2 7 2]\n",
      "0.0\n",
      "0.0\n",
      "2.0\n"
     ]
    },
    {
     "ename": "IndexError",
     "evalue": "index 3 is out of bounds for axis 0 with size 3",
     "output_type": "error",
     "traceback": [
      "\u001b[1;31m---------------------------------------------------------------------------\u001b[0m",
      "\u001b[1;31mIndexError\u001b[0m                                Traceback (most recent call last)",
      "\u001b[1;32m~\\AppData\\Local\\Temp\\ipykernel_12124\\1283531184.py\u001b[0m in \u001b[0;36m<module>\u001b[1;34m\u001b[0m\n\u001b[1;32m----> 1\u001b[1;33m \u001b[0mfsub\u001b[0m\u001b[1;33m(\u001b[0m\u001b[1;36m1\u001b[0m\u001b[1;33m,\u001b[0m\u001b[1;36m2\u001b[0m\u001b[1;33m)\u001b[0m\u001b[1;33m\u001b[0m\u001b[1;33m\u001b[0m\u001b[0m\n\u001b[0m",
      "\u001b[1;32m~\\AppData\\Local\\Temp\\ipykernel_12124\\2561777017.py\u001b[0m in \u001b[0;36mfsub\u001b[1;34m(L, G)\u001b[0m\n\u001b[0;32m     14\u001b[0m     \u001b[1;32mfor\u001b[0m \u001b[0mi\u001b[0m \u001b[1;32min\u001b[0m \u001b[0mrange\u001b[0m\u001b[1;33m(\u001b[0m\u001b[0mn\u001b[0m\u001b[1;33m+\u001b[0m\u001b[1;36m1\u001b[0m\u001b[1;33m)\u001b[0m\u001b[1;33m:\u001b[0m\u001b[1;33m\u001b[0m\u001b[1;33m\u001b[0m\u001b[0m\n\u001b[0;32m     15\u001b[0m         \u001b[1;32mfor\u001b[0m \u001b[0mj\u001b[0m \u001b[1;32min\u001b[0m \u001b[0mrange\u001b[0m\u001b[1;33m(\u001b[0m\u001b[0mi\u001b[0m\u001b[1;33m-\u001b[0m\u001b[1;36m1\u001b[0m\u001b[1;33m)\u001b[0m\u001b[1;33m:\u001b[0m\u001b[1;33m\u001b[0m\u001b[1;33m\u001b[0m\u001b[0m\n\u001b[1;32m---> 16\u001b[1;33m             \u001b[0mxl\u001b[0m\u001b[1;33m[\u001b[0m\u001b[0mj\u001b[0m\u001b[1;33m]\u001b[0m\u001b[1;33m=\u001b[0m\u001b[0ml\u001b[0m\u001b[1;33m[\u001b[0m\u001b[0mi\u001b[0m\u001b[1;33m,\u001b[0m\u001b[0mj\u001b[0m\u001b[1;33m]\u001b[0m\u001b[1;33m*\u001b[0m\u001b[0mx\u001b[0m\u001b[1;33m[\u001b[0m\u001b[0mj\u001b[0m\u001b[1;33m]\u001b[0m\u001b[1;33m\u001b[0m\u001b[1;33m\u001b[0m\u001b[0m\n\u001b[0m\u001b[0;32m     17\u001b[0m             \u001b[0mx\u001b[0m\u001b[1;33m[\u001b[0m\u001b[0mi\u001b[0m\u001b[1;33m]\u001b[0m\u001b[1;33m=\u001b[0m\u001b[1;33m(\u001b[0m\u001b[0mg\u001b[0m\u001b[1;33m[\u001b[0m\u001b[0mi\u001b[0m\u001b[1;33m]\u001b[0m\u001b[1;33m/\u001b[0m\u001b[0ml\u001b[0m\u001b[1;33m[\u001b[0m\u001b[0mi\u001b[0m\u001b[1;33m,\u001b[0m\u001b[0mi\u001b[0m\u001b[1;33m]\u001b[0m\u001b[1;33m)\u001b[0m\u001b[1;33m-\u001b[0m\u001b[1;33m(\u001b[0m\u001b[0mxl\u001b[0m\u001b[1;33m[\u001b[0m\u001b[0mi\u001b[0m\u001b[1;33m]\u001b[0m\u001b[1;33m/\u001b[0m\u001b[0ml\u001b[0m\u001b[1;33m[\u001b[0m\u001b[0mi\u001b[0m\u001b[1;33m,\u001b[0m\u001b[0mi\u001b[0m\u001b[1;33m]\u001b[0m\u001b[1;33m)\u001b[0m\u001b[1;33m\u001b[0m\u001b[1;33m\u001b[0m\u001b[0m\n\u001b[0;32m     18\u001b[0m         \u001b[0mprint\u001b[0m\u001b[1;33m(\u001b[0m\u001b[0mx\u001b[0m\u001b[1;33m[\u001b[0m\u001b[0mi\u001b[0m\u001b[1;33m]\u001b[0m\u001b[1;33m)\u001b[0m\u001b[1;33m\u001b[0m\u001b[1;33m\u001b[0m\u001b[0m\n",
      "\u001b[1;31mIndexError\u001b[0m: index 3 is out of bounds for axis 0 with size 3"
     ]
    }
   ],
   "source": [
    "fsub(1,2)"
   ]
  },
  {
   "cell_type": "code",
   "execution_count": null,
   "id": "3d8ea279",
   "metadata": {},
   "outputs": [],
   "source": []
  }
 ],
 "metadata": {
  "kernelspec": {
   "display_name": "Python 3 (ipykernel)",
   "language": "python",
   "name": "python3"
  },
  "language_info": {
   "codemirror_mode": {
    "name": "ipython",
    "version": 3
   },
   "file_extension": ".py",
   "mimetype": "text/x-python",
   "name": "python",
   "nbconvert_exporter": "python",
   "pygments_lexer": "ipython3",
   "version": "3.9.13"
  }
 },
 "nbformat": 4,
 "nbformat_minor": 5
}
