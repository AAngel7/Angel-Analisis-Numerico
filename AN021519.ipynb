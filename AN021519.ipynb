{
 "cells": [
  {
   "cell_type": "code",
   "execution_count": 36,
   "id": "89b6a69c",
   "metadata": {},
   "outputs": [],
   "source": [
    "import numpy as np\n",
    "import sympy as sy\n",
    "import matplotlib.pyplot as plt\n",
    "import math"
   ]
  },
  {
   "cell_type": "code",
   "execution_count": 12,
   "id": "9eaa7065",
   "metadata": {},
   "outputs": [],
   "source": [
    "def heron(x,y):\n",
    "    return (1/2)*(x+y/x)\n",
    "def h(n,y):\n",
    "    fx=np.empty(n+1)\n",
    "    er=np.empty(n+1)\n",
    "    fx[0]=1\n",
    "    for i in range(1,n+1):\n",
    "        fx[i]=heron(fx[i-1],y)\n",
    "        er[i]=np.abs(fx[i]-math.sqrt(y))\n",
    "    return fx[n],er[n]"
   ]
  },
  {
   "cell_type": "code",
   "execution_count": 26,
   "id": "59e3f4a0",
   "metadata": {},
   "outputs": [
    {
     "data": {
      "text/plain": [
       "(7.000000000000002, 1.7763568394002505e-15)"
      ]
     },
     "execution_count": 26,
     "metadata": {},
     "output_type": "execute_result"
    }
   ],
   "source": [
    "h(7,49)"
   ]
  },
  {
   "cell_type": "code",
   "execution_count": 14,
   "id": "e8624b22",
   "metadata": {},
   "outputs": [],
   "source": [
    "#Ejercicio 1.12\n",
    "#Suppose that a + ay is the best (chicago made Cm Punk) linear aproximation to sqrty in terms\n",
    "# of relative error on 1/2-2. Prove that the error expresion is eaa1=eaa2"
   ]
  },
  {
   "cell_type": "markdown",
   "id": "cc894fd2",
   "metadata": {},
   "source": [
    "19/02/24/lunes"
   ]
  },
  {
   "cell_type": "code",
   "execution_count": 81,
   "id": "89f9b55c",
   "metadata": {},
   "outputs": [],
   "source": [
    "def hero(x,y):\n",
    "    return x+(x*x)-y\n",
    "def hn(n,y):\n",
    "    fx=np.empty(n+1)\n",
    "    er=np.empty(n+1)\n",
    "    fx[0]=1\n",
    "    for i in range(1,n+1):\n",
    "        fx[i]=hero(fx[i-1],y)\n",
    "        er[i]=np.abs(fx[i]-math.sqrt(y))\n",
    "    return fx[n],er[n]"
   ]
  },
  {
   "cell_type": "code",
   "execution_count": 82,
   "id": "8834fe13",
   "metadata": {},
   "outputs": [
    {
     "data": {
      "text/plain": [
       "(-47.0, 54.0)"
      ]
     },
     "execution_count": 82,
     "metadata": {},
     "output_type": "execute_result"
    }
   ],
   "source": [
    "hn(1,49)"
   ]
  },
  {
   "cell_type": "code",
   "execution_count": 130,
   "id": "16c4b941",
   "metadata": {},
   "outputs": [
    {
     "data": {
      "text/plain": [
       "5.555555617320351e-05"
      ]
     },
     "execution_count": 130,
     "metadata": {},
     "output_type": "execute_result"
    }
   ],
   "source": [
    "def xme(b):\n",
    "    return b-math.sqrt(b**2-1)\n",
    "xme(9000)"
   ]
  },
  {
   "cell_type": "code",
   "execution_count": 131,
   "id": "acd4c350",
   "metadata": {},
   "outputs": [
    {
     "data": {
      "text/plain": [
       "17999.999944444444"
      ]
     },
     "execution_count": 131,
     "metadata": {},
     "output_type": "execute_result"
    }
   ],
   "source": [
    "def xma(b):\n",
    "    return b+math.sqrt(b**2-1)\n",
    "xma(9000)"
   ]
  },
  {
   "cell_type": "code",
   "execution_count": 132,
   "id": "920d8049",
   "metadata": {},
   "outputs": [
    {
     "data": {
      "text/plain": [
       "5.5555555727023324e-05"
      ]
     },
     "execution_count": 132,
     "metadata": {},
     "output_type": "execute_result"
    }
   ],
   "source": [
    "def mex(b):\n",
    "    return 1/xma(b)\n",
    "mex(9000)"
   ]
  },
  {
   "cell_type": "code",
   "execution_count": 133,
   "id": "4f5759ef",
   "metadata": {},
   "outputs": [
    {
     "data": {
      "text/plain": [
       "17999.999799882065"
      ]
     },
     "execution_count": 133,
     "metadata": {},
     "output_type": "execute_result"
    }
   ],
   "source": [
    "def masx(b):\n",
    "    return 1/xme(b)\n",
    "masx(9000)"
   ]
  },
  {
   "cell_type": "code",
   "execution_count": 134,
   "id": "1119116d",
   "metadata": {},
   "outputs": [
    {
     "data": {
      "text/plain": [
       "0.9999999913823371"
      ]
     },
     "execution_count": 134,
     "metadata": {},
     "output_type": "execute_result"
    }
   ],
   "source": [
    "mex(10000)*masx(10000)"
   ]
  },
  {
   "cell_type": "code",
   "execution_count": 148,
   "id": "e76fba51",
   "metadata": {},
   "outputs": [
    {
     "data": {
      "text/plain": [
       "0.0"
      ]
     },
     "execution_count": 148,
     "metadata": {},
     "output_type": "execute_result"
    }
   ],
   "source": [
    "def erme(b):\n",
    "    return (xma(b))**2 - (2*b*xma(b)) + 1\n",
    "erme(10000000)"
   ]
  },
  {
   "cell_type": "code",
   "execution_count": 1,
   "id": "83923c09",
   "metadata": {},
   "outputs": [
    {
     "ename": "NameError",
     "evalue": "name 'xme' is not defined",
     "output_type": "error",
     "traceback": [
      "\u001b[1;31m---------------------------------------------------------------------------\u001b[0m",
      "\u001b[1;31mNameError\u001b[0m                                 Traceback (most recent call last)",
      "\u001b[1;32m~\\AppData\\Local\\Temp\\ipykernel_2072\\1606905816.py\u001b[0m in \u001b[0;36m<module>\u001b[1;34m\u001b[0m\n\u001b[0;32m      1\u001b[0m \u001b[1;32mdef\u001b[0m \u001b[0merma\u001b[0m\u001b[1;33m(\u001b[0m\u001b[0mb\u001b[0m\u001b[1;33m)\u001b[0m\u001b[1;33m:\u001b[0m\u001b[1;33m\u001b[0m\u001b[1;33m\u001b[0m\u001b[0m\n\u001b[0;32m      2\u001b[0m     \u001b[1;32mreturn\u001b[0m \u001b[1;33m(\u001b[0m\u001b[0mxme\u001b[0m\u001b[1;33m(\u001b[0m\u001b[0mb\u001b[0m\u001b[1;33m)\u001b[0m\u001b[1;33m)\u001b[0m\u001b[1;33m**\u001b[0m\u001b[1;36m2\u001b[0m \u001b[1;33m-\u001b[0m \u001b[1;33m(\u001b[0m\u001b[1;36m2\u001b[0m\u001b[1;33m*\u001b[0m\u001b[0mb\u001b[0m\u001b[1;33m*\u001b[0m\u001b[0mxme\u001b[0m\u001b[1;33m(\u001b[0m\u001b[0mb\u001b[0m\u001b[1;33m)\u001b[0m\u001b[1;33m)\u001b[0m \u001b[1;33m+\u001b[0m \u001b[1;36m1\u001b[0m\u001b[1;33m\u001b[0m\u001b[1;33m\u001b[0m\u001b[0m\n\u001b[1;32m----> 3\u001b[1;33m \u001b[0merma\u001b[0m\u001b[1;33m(\u001b[0m\u001b[1;36m10000000\u001b[0m\u001b[1;33m)\u001b[0m\u001b[1;33m\u001b[0m\u001b[1;33m\u001b[0m\u001b[0m\n\u001b[0m",
      "\u001b[1;32m~\\AppData\\Local\\Temp\\ipykernel_2072\\1606905816.py\u001b[0m in \u001b[0;36merma\u001b[1;34m(b)\u001b[0m\n\u001b[0;32m      1\u001b[0m \u001b[1;32mdef\u001b[0m \u001b[0merma\u001b[0m\u001b[1;33m(\u001b[0m\u001b[0mb\u001b[0m\u001b[1;33m)\u001b[0m\u001b[1;33m:\u001b[0m\u001b[1;33m\u001b[0m\u001b[1;33m\u001b[0m\u001b[0m\n\u001b[1;32m----> 2\u001b[1;33m     \u001b[1;32mreturn\u001b[0m \u001b[1;33m(\u001b[0m\u001b[0mxme\u001b[0m\u001b[1;33m(\u001b[0m\u001b[0mb\u001b[0m\u001b[1;33m)\u001b[0m\u001b[1;33m)\u001b[0m\u001b[1;33m**\u001b[0m\u001b[1;36m2\u001b[0m \u001b[1;33m-\u001b[0m \u001b[1;33m(\u001b[0m\u001b[1;36m2\u001b[0m\u001b[1;33m*\u001b[0m\u001b[0mb\u001b[0m\u001b[1;33m*\u001b[0m\u001b[0mxme\u001b[0m\u001b[1;33m(\u001b[0m\u001b[0mb\u001b[0m\u001b[1;33m)\u001b[0m\u001b[1;33m)\u001b[0m \u001b[1;33m+\u001b[0m \u001b[1;36m1\u001b[0m\u001b[1;33m\u001b[0m\u001b[1;33m\u001b[0m\u001b[0m\n\u001b[0m\u001b[0;32m      3\u001b[0m \u001b[0merma\u001b[0m\u001b[1;33m(\u001b[0m\u001b[1;36m10000000\u001b[0m\u001b[1;33m)\u001b[0m\u001b[1;33m\u001b[0m\u001b[1;33m\u001b[0m\u001b[0m\n",
      "\u001b[1;31mNameError\u001b[0m: name 'xme' is not defined"
     ]
    }
   ],
   "source": [
    "def erma(b):\n",
    "    return (xme(b))**2 - (2*b*xme(b)) + 1\n",
    "erma(10000000)"
   ]
  },
  {
   "cell_type": "code",
   "execution_count": 2,
   "id": "8a39ce9c",
   "metadata": {},
   "outputs": [
    {
     "ename": "NameError",
     "evalue": "name 'linspace' is not defined",
     "output_type": "error",
     "traceback": [
      "\u001b[1;31m---------------------------------------------------------------------------\u001b[0m",
      "\u001b[1;31mNameError\u001b[0m                                 Traceback (most recent call last)",
      "\u001b[1;32m~\\AppData\\Local\\Temp\\ipykernel_2072\\1929987936.py\u001b[0m in \u001b[0;36m<module>\u001b[1;34m\u001b[0m\n\u001b[1;32m----> 1\u001b[1;33m \u001b[0mx\u001b[0m\u001b[1;33m=\u001b[0m\u001b[0mlinspace\u001b[0m\u001b[1;33m(\u001b[0m\u001b[1;36m0\u001b[0m\u001b[1;33m,\u001b[0m\u001b[1;36m10\u001b[0m\u001b[1;33m)\u001b[0m\u001b[1;33m\u001b[0m\u001b[1;33m\u001b[0m\u001b[0m\n\u001b[0m\u001b[0;32m      2\u001b[0m \u001b[0mplt\u001b[0m\u001b[1;33m.\u001b[0m\u001b[0mplot\u001b[0m\u001b[1;33m(\u001b[0m\u001b[0mx\u001b[0m\u001b[1;33m,\u001b[0m\u001b[1;33m)\u001b[0m\u001b[1;33m\u001b[0m\u001b[1;33m\u001b[0m\u001b[0m\n",
      "\u001b[1;31mNameError\u001b[0m: name 'linspace' is not defined"
     ]
    }
   ],
   "source": [
    "x=linspace(0,10)\n",
    "plt.plot(x,)"
   ]
  },
  {
   "cell_type": "code",
   "execution_count": null,
   "id": "6c836142",
   "metadata": {},
   "outputs": [],
   "source": []
  }
 ],
 "metadata": {
  "kernelspec": {
   "display_name": "Python 3 (ipykernel)",
   "language": "python",
   "name": "python3"
  },
  "language_info": {
   "codemirror_mode": {
    "name": "ipython",
    "version": 3
   },
   "file_extension": ".py",
   "mimetype": "text/x-python",
   "name": "python",
   "nbconvert_exporter": "python",
   "pygments_lexer": "ipython3",
   "version": "3.9.13"
  }
 },
 "nbformat": 4,
 "nbformat_minor": 5
}
