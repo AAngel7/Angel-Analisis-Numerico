{
 "cells": [
  {
   "cell_type": "code",
   "execution_count": 6,
   "id": "7d023dbe",
   "metadata": {},
   "outputs": [],
   "source": [
    "#KEPLER'S EQUATION\n",
    "#ENCONTRAR RAÍCES NEWTON-RHAPSON.SIMPSON\n",
    "#NEWTON PROPUSO \n",
    "import numpy as np"
   ]
  },
  {
   "cell_type": "code",
   "execution_count": 7,
   "id": "84600020",
   "metadata": {},
   "outputs": [],
   "source": [
    "def gn(x,t,e):\n",
    "    return x + (t-x+e*np.sin(x))/(1-e*np.cos(x))\n",
    "def gk(x,t,e):\n",
    "    return t+e*sy.sin(x)\n",
    "def gh(x,y):\n",
    "    return (1/2)*(x+y/x)\n",
    "def kgn(e,t):\n",
    "    p=0.7\n",
    "    print(p)\n",
    "    while p != gn(p,t,e):\n",
    "        p = gn(p,t,e)\n",
    "        print(p)\n",
    "    return p\n",
    "def kgk(e,t):\n",
    "    p=0.7\n",
    "    print(p)\n",
    "    while p != gk(p,t,e):\n",
    "        p = gk(p,t,e)\n",
    "        print(p)\n",
    "    return p\n",
    "def nrs(g,x0,e,t):\n",
    "    p=0.7\n",
    "    p=x0\n",
    "    print(p)\n",
    "    while p != g(p,t,e):\n",
    "        p = g(p,t,e)\n",
    "        print(p)\n",
    "    return p"
   ]
  },
  {
   "cell_type": "code",
   "execution_count": 8,
   "id": "e64825dd",
   "metadata": {},
   "outputs": [
    {
     "name": "stdout",
     "output_type": "stream",
     "text": [
      "0.7\n",
      "0.12006596732021724\n",
      "0.11108626443108073\n",
      "0.11108574153382873\n",
      "0.11108574153382705\n"
     ]
    },
    {
     "data": {
      "text/plain": [
       "0.11108574153382705"
      ]
     },
     "execution_count": 8,
     "metadata": {},
     "output_type": "execute_result"
    }
   ],
   "source": [
    "kgn(0.1,0.1)"
   ]
  },
  {
   "cell_type": "markdown",
   "id": "185a90f8",
   "metadata": {},
   "source": []
  },
  {
   "cell_type": "code",
   "execution_count": null,
   "id": "77d26691",
   "metadata": {},
   "outputs": [],
   "source": []
  }
 ],
 "metadata": {
  "kernelspec": {
   "display_name": "Python 3 (ipykernel)",
   "language": "python",
   "name": "python3"
  },
  "language_info": {
   "codemirror_mode": {
    "name": "ipython",
    "version": 3
   },
   "file_extension": ".py",
   "mimetype": "text/x-python",
   "name": "python",
   "nbconvert_exporter": "python",
   "pygments_lexer": "ipython3",
   "version": "3.9.13"
  }
 },
 "nbformat": 4,
 "nbformat_minor": 5
}
