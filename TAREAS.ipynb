{
 "cells": [
  {
   "cell_type": "markdown",
   "id": "0bb14299",
   "metadata": {},
   "source": [
    "12/02/24/lunes\n",
    "Dada una función f(x), determinar el orden de aproximación O si requqrimos que el resto R_n(x) sea menor que cierto valor npumerico dado (tolerancia).\n",
    "Se que $$R_n(x)=f(x) - T_n(x)$$\n",
    "Cuando tu resto es cero tu función es igual a tu serie de taylor\n",
    "\n"
   ]
  },
  {
   "cell_type": "code",
   "execution_count": 5,
   "id": "2db57ca7",
   "metadata": {},
   "outputs": [],
   "source": [
    "import numpy as np\n",
    "import sympy as sy\n",
    "import matplotlib.pyplot as plt"
   ]
  },
  {
   "cell_type": "code",
   "execution_count": 7,
   "id": "e6555a93",
   "metadata": {},
   "outputs": [
    {
     "name": "stdout",
     "output_type": "stream",
     "text": [
      "Función f(x): sin(x) + cos(x)\n",
      "<function _lambdifygenerated at 0x000001A4FE152430>\n"
     ]
    }
   ],
   "source": [
    "n=1000\n",
    "x=sy.symbols('x')\n",
    "f=sy.sin(x) + sy.cos(x)\n",
    "print(\"Función f(x):\",f)\n",
    "ffunc=sy.lambdify(x,f)\n",
    "print(ffunc)"
   ]
  },
  {
   "cell_type": "code",
   "execution_count": 10,
   "id": "220a3939",
   "metadata": {},
   "outputs": [],
   "source": [
    "def tol(t,h):\n",
    "    for i in range(1,n):\n",
    "        g=sy.series(f,x,0,i)\n",
    "        gfunc=sy.lambdify(x,g.removeO())\n",
    "        ff=ffunc(h)\n",
    "        gg=gfunc(h)\n",
    "        r=np.abs(ff-gg)\n",
    "        if r<t:\n",
    "            print(\"Función f(x):\",f)\n",
    "            print(\"Tolerancia:\",t)\n",
    "            print(\"Serie de Taylor:\",g)\n",
    "            print(\"Orden de aproximación:\",i)\n",
    "            break\n",
    "        else:\n",
    "            continue"
   ]
  },
  {
   "cell_type": "code",
   "execution_count": 11,
   "id": "21a9f67c",
   "metadata": {},
   "outputs": [
    {
     "name": "stdout",
     "output_type": "stream",
     "text": [
      "Función f(x): sin(x) + cos(x)\n",
      "Tolerancia: 0.1\n",
      "Serie de Taylor: 1 + x - x**2/2 - x**3/6 + x**4/24 + x**5/120 - x**6/720 - x**7/5040 + x**8/40320 + x**9/362880 - x**10/3628800 - x**11/39916800 + x**12/479001600 + x**13/6227020800 - x**14/87178291200 - x**15/1307674368000 + x**16/20922789888000 + x**17/355687428096000 - x**18/6402373705728000 + O(x**19)\n",
      "Orden de aproximación: 19\n"
     ]
    }
   ],
   "source": [
    "tol(0.1,7)"
   ]
  },
  {
   "cell_type": "markdown",
   "id": "d8ddf577",
   "metadata": {},
   "source": [
    "16/02/24/jueves\n",
    "Ejercicio 1.12\n",
    "Suppose that a + ay is the best (chicago made Cm Punk) linear aproximation to sqrty in terms\n",
    "of relative error on 1/2-2. Prove that the error expresion is eaa1=eaa2"
   ]
  },
  {
   "cell_type": "code",
   "execution_count": null,
   "id": "70fc9821",
   "metadata": {},
   "outputs": [],
   "source": []
  }
 ],
 "metadata": {
  "kernelspec": {
   "display_name": "Python 3 (ipykernel)",
   "language": "python",
   "name": "python3"
  },
  "language_info": {
   "codemirror_mode": {
    "name": "ipython",
    "version": 3
   },
   "file_extension": ".py",
   "mimetype": "text/x-python",
   "name": "python",
   "nbconvert_exporter": "python",
   "pygments_lexer": "ipython3",
   "version": "3.9.13"
  }
 },
 "nbformat": 4,
 "nbformat_minor": 5
}
