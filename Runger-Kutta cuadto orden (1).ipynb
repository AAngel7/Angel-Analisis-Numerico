{
 "cells": [
  {
   "cell_type": "markdown",
   "id": "af28f786",
   "metadata": {},
   "source": [
    "# Runge-Kutta Cuarto Orden"
   ]
  },
  {
   "cell_type": "code",
   "execution_count": 9,
   "id": "4e9df7b0",
   "metadata": {},
   "outputs": [
    {
     "name": "stdout",
     "output_type": "stream",
     "text": [
      "[ 19.53         3.14847227   1.56501191   0.26296871  -0.97182666\n",
      "  -2.28204589  -3.81903888  -5.80936521  -8.6780744  -13.37838499\n",
      " -22.50759395 -45.29198435]\n",
      "[ 19.53        10.16782416   6.37032643   4.11921483   2.48829431\n",
      "   1.12081032  -0.17770512  -1.56533384  -3.24322678  -5.58940124\n",
      "  -9.6041146  -19.50349262]\n"
     ]
    }
   ],
   "source": [
    "import numpy as np\n",
    "def f(x,y):\n",
    "    return - (30/(1-x**2)) + ((2*x)/(1-x**2))*y - y**2\n",
    "def euler(f,a,b,n,yinit):\n",
    "    h = (b-a)/(n-1)\n",
    "    xs = a + np.arange(n)*h\n",
    "    ys = np.zeros(n)\n",
    "    y = yinit\n",
    "    for j,x in enumerate(xs):\n",
    "        ys[j] = y\n",
    "        y += h*f(x, y)\n",
    "    return xs, ys\n",
    "def rk4(f,a,b,n,yinit):\n",
    "    h = (b-a)/(n-1)\n",
    "    xs = a + np.arange(n)*h\n",
    "    ys = np.zeros(n)\n",
    "    y = yinit\n",
    "    for j,x in enumerate(xs):\n",
    "        ys[j] = y\n",
    "        k0 = h*f(x, y)\n",
    "        k1 = h*f(x+h/2, y+k0/2)\n",
    "        k2 = h*f(x+h/2, y+k1/2)\n",
    "        k3 = h*f(x+h, y+k2)\n",
    "        y += (k0 + 2*k1 + 2*k2 + k3)/6\n",
    "    return xs, ys\n",
    "a, b, n, yinit = 0.05, 0.49, 12, 19.53\n",
    "xs, ys = euler(f,a,b,n,yinit); print(ys)\n",
    "xs, ys = rk4(f,a,b,n,yinit); print(ys)"
   ]
  },
  {
   "cell_type": "code",
   "execution_count": null,
   "id": "b49181fe",
   "metadata": {},
   "outputs": [],
   "source": []
  }
 ],
 "metadata": {
  "kernelspec": {
   "display_name": "Python 3 (ipykernel)",
   "language": "python",
   "name": "python3"
  },
  "language_info": {
   "codemirror_mode": {
    "name": "ipython",
    "version": 3
   },
   "file_extension": ".py",
   "mimetype": "text/x-python",
   "name": "python",
   "nbconvert_exporter": "python",
   "pygments_lexer": "ipython3",
   "version": "3.9.13"
  }
 },
 "nbformat": 4,
 "nbformat_minor": 5
}
