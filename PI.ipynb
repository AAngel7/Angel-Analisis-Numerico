{
 "cells": [
  {
   "cell_type": "markdown",
   "id": "sustained-ceramic",
   "metadata": {},
   "source": [
    "Encontrar la posición del decimal en donde la secuencia de decimales de $\\pi$ tiene una secuencia de 6s y 9s"
   ]
  },
  {
   "cell_type": "markdown",
   "id": "outside-charter",
   "metadata": {},
   "source": [
    "Algoritmo de Ramanujan-Chudnovsky (1914)\n",
    "$$\n",
    "\\frac{1}{\\pi}=\\frac{12}{\\sqrt{k}}\\cdot \\sum_{n=0}^{\\infty}\\frac{(-1)^{n} (6n!) (pn + l)}{(3n!)(n!)^{3} k^{3n}}\\\\\n",
    "k=604320^{3}\\\\\n",
    "p=5451400134\\\\\n",
    "l=13591409\n",
    "$$"
   ]
  },
  {
   "cell_type": "code",
   "execution_count": null,
   "id": "legendary-domain",
   "metadata": {},
   "outputs": [],
   "source": [
    "import numpy as np\n",
    "from mpmath import mp"
   ]
  },
  {
   "cell_type": "code",
   "execution_count": null,
   "id": "simplified-exclusive",
   "metadata": {},
   "outputs": [],
   "source": [
    "k=604320**3\n",
    "c=k\n",
    "p=5451400134\n",
    "l=13591409\n",
    "f=558731543\n",
    "i=1\n",
    "aux=18\n",
    "co=120\n",
    "rf=l + co*f/k"
   ]
  },
  {
   "cell_type": "code",
   "execution_count": null,
   "id": "desperate-collapse",
   "metadata": {},
   "outputs": [],
   "source": [
    "print(k)\n",
    "print(c)\n",
    "print(p)\n",
    "print(l)\n",
    "print(f)\n",
    "print(i)\n",
    "print(aux)\n",
    "print(co)\n",
    "print(rf)"
   ]
  },
  {
   "cell_type": "code",
   "execution_count": null,
   "id": "provincial-modern",
   "metadata": {},
   "outputs": [],
   "source": [
    "def fokinpi(p):\n",
    "    umbral=2**(-p)\n",
    "    while (abs(rf.l) > umbral):\n",
    "        i+=1\n",
    "        k = k*c\n",
    "        f = f + p\n",
    "        co = co*(aux**3 − 16*aux)/i**3\n",
    "        aux = aux + 12;\n",
    "        l = rf;\n",
    "        rf = rf + f*co / k\n",
    "    return mp.sqrt((−c)/(12*rf))"
   ]
  },
  {
   "cell_type": "code",
   "execution_count": null,
   "id": "confirmed-small",
   "metadata": {},
   "outputs": [],
   "source": [
    "fokinpi(10)"
   ]
  },
  {
   "cell_type": "code",
   "execution_count": null,
   "id": "supported-brave",
   "metadata": {},
   "outputs": [],
   "source": []
  }
 ],
 "metadata": {
  "kernelspec": {
   "display_name": "Python 3 (ipykernel)",
   "language": "python",
   "name": "python3"
  },
  "language_info": {
   "codemirror_mode": {
    "name": "ipython",
    "version": 3
   },
   "file_extension": ".py",
   "mimetype": "text/x-python",
   "name": "python",
   "nbconvert_exporter": "python",
   "pygments_lexer": "ipython3",
   "version": "3.9.13"
  }
 },
 "nbformat": 4,
 "nbformat_minor": 5
}
